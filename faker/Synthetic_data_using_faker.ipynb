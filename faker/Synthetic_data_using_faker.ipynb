{
 "cells": [
  {
   "cell_type": "code",
   "execution_count": 1,
   "id": "0db99ef8-977e-4a1a-96f1-d110f4cccd36",
   "metadata": {},
   "outputs": [],
   "source": [
    "from fake import SynthethicData\n",
    "import pandas as pd"
   ]
  },
  {
   "cell_type": "markdown",
   "id": "157fe761-3e98-4ab3-98fb-5e4d6657e998",
   "metadata": {},
   "source": [
    "## Generate Synthetic data"
   ]
  },
  {
   "cell_type": "code",
   "execution_count": 2,
   "id": "b63a0dc5-d3bf-4e8d-8343-ad3890bebc35",
   "metadata": {},
   "outputs": [],
   "source": [
    "synthetic_data = SynthethicData(num_records=200).data"
   ]
  },
  {
   "cell_type": "markdown",
   "id": "72b03d14-537b-4f6c-a804-e232864bf71b",
   "metadata": {},
   "source": [
    "## Convert synthetic to pandas dataframe"
   ]
  },
  {
   "cell_type": "code",
   "execution_count": 3,
   "id": "08911c28-b3cd-4444-bb9c-46937c06160a",
   "metadata": {},
   "outputs": [],
   "source": [
    "df = pd.DataFrame(synthetic_data)"
   ]
  },
  {
   "cell_type": "code",
   "execution_count": 4,
   "id": "5bc267a0-5ad9-4e08-b0de-f0e1f14fb1a2",
   "metadata": {},
   "outputs": [
    {
     "data": {
      "text/html": [
       "<div>\n",
       "<style scoped>\n",
       "    .dataframe tbody tr th:only-of-type {\n",
       "        vertical-align: middle;\n",
       "    }\n",
       "\n",
       "    .dataframe tbody tr th {\n",
       "        vertical-align: top;\n",
       "    }\n",
       "\n",
       "    .dataframe thead th {\n",
       "        text-align: right;\n",
       "    }\n",
       "</style>\n",
       "<table border=\"1\" class=\"dataframe\">\n",
       "  <thead>\n",
       "    <tr style=\"text-align: right;\">\n",
       "      <th></th>\n",
       "      <th>id</th>\n",
       "      <th>first_name</th>\n",
       "      <th>last_name</th>\n",
       "      <th>date_of_birth</th>\n",
       "      <th>address_line1</th>\n",
       "      <th>address_line2</th>\n",
       "      <th>city</th>\n",
       "      <th>state</th>\n",
       "      <th>country</th>\n",
       "      <th>email_id</th>\n",
       "    </tr>\n",
       "  </thead>\n",
       "  <tbody>\n",
       "    <tr>\n",
       "      <th>0</th>\n",
       "      <td>fe67aedf-9721-4331-9c5e-10388e8acc39</td>\n",
       "      <td>Soledad</td>\n",
       "      <td>None</td>\n",
       "      <td>1984-06-19</td>\n",
       "      <td>Pasadizo de Yésica Amo 254 Apt. 18</td>\n",
       "      <td>None</td>\n",
       "      <td>Huelva</td>\n",
       "      <td>Córdoba</td>\n",
       "      <td>TM</td>\n",
       "      <td>vdieguez@example.org</td>\n",
       "    </tr>\n",
       "    <tr>\n",
       "      <th>1</th>\n",
       "      <td>7e4064ad-a109-433c-80fe-ccc981fe8695</td>\n",
       "      <td>Zaira</td>\n",
       "      <td>None</td>\n",
       "      <td>2005-09-21</td>\n",
       "      <td>Acceso Lorena Bartolomé 813</td>\n",
       "      <td>C. Toribio Hidalgo 96 Piso 0</td>\n",
       "      <td>Guipúzcoa</td>\n",
       "      <td>Valencia</td>\n",
       "      <td>NA</td>\n",
       "      <td>feliciasosa@example.org</td>\n",
       "    </tr>\n",
       "    <tr>\n",
       "      <th>2</th>\n",
       "      <td>3d0335f8-24d0-4c88-8b50-c8e778b191f5</td>\n",
       "      <td>Héctor</td>\n",
       "      <td>None</td>\n",
       "      <td>1939-08-21</td>\n",
       "      <td>Callejón Celia Valderrama 57 Puerta 7</td>\n",
       "      <td>None</td>\n",
       "      <td>Castellón</td>\n",
       "      <td>Zamora</td>\n",
       "      <td>NG</td>\n",
       "      <td>andrespalacio@example.com</td>\n",
       "    </tr>\n",
       "    <tr>\n",
       "      <th>3</th>\n",
       "      <td>83d2921c-d0df-4945-b75f-1ecf774c2b44</td>\n",
       "      <td>Zaida</td>\n",
       "      <td>Lago</td>\n",
       "      <td>1990-05-03</td>\n",
       "      <td>Rambla de Vera Viana 3 Apt. 38</td>\n",
       "      <td>None</td>\n",
       "      <td>Cantabria</td>\n",
       "      <td>Cádiz</td>\n",
       "      <td>BR</td>\n",
       "      <td>azenethminguez@example.net</td>\n",
       "    </tr>\n",
       "    <tr>\n",
       "      <th>4</th>\n",
       "      <td>af8bb471-3797-4df8-93d2-6d6aef73e4ba</td>\n",
       "      <td>Fabián</td>\n",
       "      <td>Belmonte</td>\n",
       "      <td>1951-08-02</td>\n",
       "      <td>Urbanización de Bernardita Saura 54</td>\n",
       "      <td>Plaza Pastor Coca 70 Piso 9</td>\n",
       "      <td>Ciudad</td>\n",
       "      <td>Las Palmas</td>\n",
       "      <td>KZ</td>\n",
       "      <td>chuchocampos@example.com</td>\n",
       "    </tr>\n",
       "  </tbody>\n",
       "</table>\n",
       "</div>"
      ],
      "text/plain": [
       "                                     id first_name last_name date_of_birth  \\\n",
       "0  fe67aedf-9721-4331-9c5e-10388e8acc39    Soledad      None    1984-06-19   \n",
       "1  7e4064ad-a109-433c-80fe-ccc981fe8695      Zaira      None    2005-09-21   \n",
       "2  3d0335f8-24d0-4c88-8b50-c8e778b191f5     Héctor      None    1939-08-21   \n",
       "3  83d2921c-d0df-4945-b75f-1ecf774c2b44      Zaida      Lago    1990-05-03   \n",
       "4  af8bb471-3797-4df8-93d2-6d6aef73e4ba     Fabián  Belmonte    1951-08-02   \n",
       "\n",
       "                            address_line1                  address_line2  \\\n",
       "0     Pasadizo de Yésica Amo 254 Apt. 18                            None   \n",
       "1             Acceso Lorena Bartolomé 813  C. Toribio Hidalgo 96 Piso 0    \n",
       "2  Callejón Celia Valderrama 57 Puerta 7                            None   \n",
       "3         Rambla de Vera Viana 3 Apt. 38                            None   \n",
       "4     Urbanización de Bernardita Saura 54   Plaza Pastor Coca 70 Piso 9    \n",
       "\n",
       "        city       state country                    email_id  \n",
       "0     Huelva     Córdoba      TM        vdieguez@example.org  \n",
       "1  Guipúzcoa    Valencia      NA     feliciasosa@example.org  \n",
       "2  Castellón      Zamora      NG   andrespalacio@example.com  \n",
       "3  Cantabria       Cádiz      BR  azenethminguez@example.net  \n",
       "4     Ciudad  Las Palmas      KZ    chuchocampos@example.com  "
      ]
     },
     "execution_count": 4,
     "metadata": {},
     "output_type": "execute_result"
    }
   ],
   "source": [
    "df.head()"
   ]
  },
  {
   "cell_type": "markdown",
   "id": "6ddecae4-2233-4a1b-aa8b-0f9906373b85",
   "metadata": {},
   "source": [
    "## Generate csv file"
   ]
  },
  {
   "cell_type": "code",
   "execution_count": 6,
   "id": "fbcd5e48-2710-41d0-b644-c8c9707f5fd7",
   "metadata": {},
   "outputs": [],
   "source": [
    "df.to_csv('output/customer_synthetic_data.csv', index=False)"
   ]
  },
  {
   "cell_type": "markdown",
   "id": "50076d1c-c941-450e-b42b-05b26b609a5d",
   "metadata": {},
   "source": [
    "## Explore generated data"
   ]
  },
  {
   "cell_type": "code",
   "execution_count": 7,
   "id": "e299cb1a-5732-4e90-a51e-f88b260eb458",
   "metadata": {},
   "outputs": [
    {
     "name": "stdout",
     "output_type": "stream",
     "text": [
      "<class 'pandas.core.frame.DataFrame'>\n",
      "RangeIndex: 200 entries, 0 to 199\n",
      "Data columns (total 10 columns):\n",
      " #   Column         Non-Null Count  Dtype \n",
      "---  ------         --------------  ----- \n",
      " 0   id             200 non-null    object\n",
      " 1   first_name     200 non-null    object\n",
      " 2   last_name      85 non-null     object\n",
      " 3   date_of_birth  200 non-null    object\n",
      " 4   address_line1  200 non-null    object\n",
      " 5   address_line2  90 non-null     object\n",
      " 6   city           200 non-null    object\n",
      " 7   state          200 non-null    object\n",
      " 8   country        200 non-null    object\n",
      " 9   email_id       200 non-null    object\n",
      "dtypes: object(10)\n",
      "memory usage: 15.8+ KB\n"
     ]
    }
   ],
   "source": [
    "df.info()"
   ]
  },
  {
   "cell_type": "markdown",
   "id": "a92e16b9-1259-484a-a702-cf8db3617316",
   "metadata": {},
   "source": [
    "## Null Count"
   ]
  },
  {
   "cell_type": "code",
   "execution_count": null,
   "id": "f5ceb452-bdd5-40d1-8885-6f29a4fcbd26",
   "metadata": {},
   "outputs": [],
   "source": []
  }
 ],
 "metadata": {
  "kernelspec": {
   "display_name": "myenv",
   "language": "python",
   "name": "myenv"
  },
  "language_info": {
   "codemirror_mode": {
    "name": "ipython",
    "version": 3
   },
   "file_extension": ".py",
   "mimetype": "text/x-python",
   "name": "python",
   "nbconvert_exporter": "python",
   "pygments_lexer": "ipython3",
   "version": "3.11.9"
  }
 },
 "nbformat": 4,
 "nbformat_minor": 5
}
