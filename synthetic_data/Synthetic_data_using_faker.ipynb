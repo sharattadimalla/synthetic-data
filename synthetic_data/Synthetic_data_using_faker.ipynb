{
 "cells": [
  {
   "cell_type": "markdown",
   "id": "0a6de537-4b97-4f3f-9540-cea730bd15d8",
   "metadata": {},
   "source": [
    "## Synthetic Data Demo\n"
   ]
  },
  {
   "cell_type": "code",
   "execution_count": 1,
   "id": "0db99ef8-977e-4a1a-96f1-d110f4cccd36",
   "metadata": {},
   "outputs": [],
   "source": [
    "from fake import SynthethicData\n",
    "import pandas as pd"
   ]
  },
  {
   "cell_type": "markdown",
   "id": "157fe761-3e98-4ab3-98fb-5e4d6657e998",
   "metadata": {},
   "source": [
    "## Generate Synthetic data\n"
   ]
  },
  {
   "cell_type": "code",
   "execution_count": 2,
   "id": "b63a0dc5-d3bf-4e8d-8343-ad3890bebc35",
   "metadata": {},
   "outputs": [],
   "source": [
    "synthetic_data = SynthethicData(num_records=200).data"
   ]
  },
  {
   "cell_type": "markdown",
   "id": "72b03d14-537b-4f6c-a804-e232864bf71b",
   "metadata": {},
   "source": [
    "## Convert synthetic to pandas dataframe\n"
   ]
  },
  {
   "cell_type": "code",
   "execution_count": 3,
   "id": "08911c28-b3cd-4444-bb9c-46937c06160a",
   "metadata": {},
   "outputs": [],
   "source": [
    "df = pd.DataFrame(synthetic_data)"
   ]
  },
  {
   "cell_type": "code",
   "execution_count": 4,
   "id": "30191ec8-4465-468d-bedf-6ba118a9614a",
   "metadata": {},
   "outputs": [
    {
     "data": {
      "text/plain": [
       "Index(['id', 'first_name', 'last_name', 'date_of_birth', 'address_line1',\n",
       "       'address_line2', 'city', 'state', 'country', 'email_id'],\n",
       "      dtype='object')"
      ]
     },
     "execution_count": 4,
     "metadata": {},
     "output_type": "execute_result"
    }
   ],
   "source": [
    "df.columns"
   ]
  },
  {
   "cell_type": "markdown",
   "id": "5826671d-df04-4a55-953e-83a5e8504713",
   "metadata": {},
   "source": [
    "## Sample data\n"
   ]
  },
  {
   "cell_type": "code",
   "execution_count": 5,
   "id": "5bc267a0-5ad9-4e08-b0de-f0e1f14fb1a2",
   "metadata": {},
   "outputs": [
    {
     "data": {
      "text/html": [
       "<div>\n",
       "<style scoped>\n",
       "    .dataframe tbody tr th:only-of-type {\n",
       "        vertical-align: middle;\n",
       "    }\n",
       "\n",
       "    .dataframe tbody tr th {\n",
       "        vertical-align: top;\n",
       "    }\n",
       "\n",
       "    .dataframe thead th {\n",
       "        text-align: right;\n",
       "    }\n",
       "</style>\n",
       "<table border=\"1\" class=\"dataframe\">\n",
       "  <thead>\n",
       "    <tr style=\"text-align: right;\">\n",
       "      <th></th>\n",
       "      <th>id</th>\n",
       "      <th>first_name</th>\n",
       "      <th>last_name</th>\n",
       "      <th>date_of_birth</th>\n",
       "      <th>address_line1</th>\n",
       "      <th>address_line2</th>\n",
       "      <th>city</th>\n",
       "      <th>state</th>\n",
       "      <th>country</th>\n",
       "      <th>email_id</th>\n",
       "    </tr>\n",
       "  </thead>\n",
       "  <tbody>\n",
       "    <tr>\n",
       "      <th>0</th>\n",
       "      <td>b30f75f1-04b4-4116-8371-2904b60d9cd4</td>\n",
       "      <td>Virgilio</td>\n",
       "      <td>Isern</td>\n",
       "      <td>1929-03-25</td>\n",
       "      <td>4924 West 65th Avenue</td>\n",
       "      <td></td>\n",
       "      <td>Arvada</td>\n",
       "      <td>CO</td>\n",
       "      <td>None</td>\n",
       "      <td>palomaresgil@example.com</td>\n",
       "    </tr>\n",
       "    <tr>\n",
       "      <th>1</th>\n",
       "      <td>c4b063dc-f6df-45bf-a17a-2b49531c3d61</td>\n",
       "      <td>Valerio</td>\n",
       "      <td>Medina</td>\n",
       "      <td>2016-11-07</td>\n",
       "      <td>735 West Treadwell Street</td>\n",
       "      <td>#33</td>\n",
       "      <td>Fayetteville</td>\n",
       "      <td>AR</td>\n",
       "      <td>USA</td>\n",
       "      <td>maria-del-carmencalderon@example.com</td>\n",
       "    </tr>\n",
       "    <tr>\n",
       "      <th>2</th>\n",
       "      <td>9b4bb8fd-2732-4503-a814-adf029fdaccc</td>\n",
       "      <td>Soledad</td>\n",
       "      <td>Rosado</td>\n",
       "      <td>06-01-2019</td>\n",
       "      <td>3604 West Market Street</td>\n",
       "      <td></td>\n",
       "      <td>Louisville</td>\n",
       "      <td>KY</td>\n",
       "      <td>US</td>\n",
       "      <td>fajardoolegario@example.net</td>\n",
       "    </tr>\n",
       "    <tr>\n",
       "      <th>3</th>\n",
       "      <td>fce7aceb-0e3e-413d-b0d9-f5b9dc6540a6</td>\n",
       "      <td>Olalla</td>\n",
       "      <td>None</td>\n",
       "      <td>01-21-1915</td>\n",
       "      <td>201 West Montgomery Cross Road</td>\n",
       "      <td>#170</td>\n",
       "      <td>Savannah</td>\n",
       "      <td>GA</td>\n",
       "      <td>US</td>\n",
       "      <td>dcalleja@example.com</td>\n",
       "    </tr>\n",
       "    <tr>\n",
       "      <th>4</th>\n",
       "      <td>08f80667-458b-4531-9f9a-01a60a3138c2</td>\n",
       "      <td>Rosalva</td>\n",
       "      <td>None</td>\n",
       "      <td>2009-12-18</td>\n",
       "      <td>197 Oak Street</td>\n",
       "      <td></td>\n",
       "      <td>Manchester</td>\n",
       "      <td>CT</td>\n",
       "      <td>US</td>\n",
       "      <td>conchacastilla@example.com</td>\n",
       "    </tr>\n",
       "  </tbody>\n",
       "</table>\n",
       "</div>"
      ],
      "text/plain": [
       "                                     id first_name last_name date_of_birth  \\\n",
       "0  b30f75f1-04b4-4116-8371-2904b60d9cd4   Virgilio     Isern    1929-03-25   \n",
       "1  c4b063dc-f6df-45bf-a17a-2b49531c3d61    Valerio    Medina    2016-11-07   \n",
       "2  9b4bb8fd-2732-4503-a814-adf029fdaccc    Soledad    Rosado    06-01-2019   \n",
       "3  fce7aceb-0e3e-413d-b0d9-f5b9dc6540a6     Olalla      None    01-21-1915   \n",
       "4  08f80667-458b-4531-9f9a-01a60a3138c2    Rosalva      None    2009-12-18   \n",
       "\n",
       "                    address_line1 address_line2          city state country  \\\n",
       "0           4924 West 65th Avenue                      Arvada    CO    None   \n",
       "1       735 West Treadwell Street           #33  Fayetteville    AR     USA   \n",
       "2         3604 West Market Street                  Louisville    KY      US   \n",
       "3  201 West Montgomery Cross Road          #170      Savannah    GA      US   \n",
       "4                  197 Oak Street                  Manchester    CT      US   \n",
       "\n",
       "                               email_id  \n",
       "0              palomaresgil@example.com  \n",
       "1  maria-del-carmencalderon@example.com  \n",
       "2           fajardoolegario@example.net  \n",
       "3                  dcalleja@example.com  \n",
       "4            conchacastilla@example.com  "
      ]
     },
     "execution_count": 5,
     "metadata": {},
     "output_type": "execute_result"
    }
   ],
   "source": [
    "df.head()"
   ]
  },
  {
   "cell_type": "markdown",
   "id": "50076d1c-c941-450e-b42b-05b26b609a5d",
   "metadata": {},
   "source": [
    "## Explore generated data\n"
   ]
  },
  {
   "cell_type": "code",
   "execution_count": 6,
   "id": "e299cb1a-5732-4e90-a51e-f88b260eb458",
   "metadata": {},
   "outputs": [
    {
     "name": "stdout",
     "output_type": "stream",
     "text": [
      "<class 'pandas.core.frame.DataFrame'>\n",
      "RangeIndex: 200 entries, 0 to 199\n",
      "Data columns (total 10 columns):\n",
      " #   Column         Non-Null Count  Dtype \n",
      "---  ------         --------------  ----- \n",
      " 0   id             200 non-null    object\n",
      " 1   first_name     200 non-null    object\n",
      " 2   last_name      104 non-null    object\n",
      " 3   date_of_birth  200 non-null    object\n",
      " 4   address_line1  200 non-null    object\n",
      " 5   address_line2  200 non-null    object\n",
      " 6   city           200 non-null    object\n",
      " 7   state          200 non-null    object\n",
      " 8   country        136 non-null    object\n",
      " 9   email_id       200 non-null    object\n",
      "dtypes: object(10)\n",
      "memory usage: 15.8+ KB\n"
     ]
    }
   ],
   "source": [
    "df.info()"
   ]
  },
  {
   "cell_type": "markdown",
   "id": "d922f6cd",
   "metadata": {},
   "source": [
    "## Describe data\n"
   ]
  },
  {
   "cell_type": "code",
   "execution_count": 7,
   "id": "972e8fe3",
   "metadata": {},
   "outputs": [
    {
     "data": {
      "text/html": [
       "<div>\n",
       "<style scoped>\n",
       "    .dataframe tbody tr th:only-of-type {\n",
       "        vertical-align: middle;\n",
       "    }\n",
       "\n",
       "    .dataframe tbody tr th {\n",
       "        vertical-align: top;\n",
       "    }\n",
       "\n",
       "    .dataframe thead th {\n",
       "        text-align: right;\n",
       "    }\n",
       "</style>\n",
       "<table border=\"1\" class=\"dataframe\">\n",
       "  <thead>\n",
       "    <tr style=\"text-align: right;\">\n",
       "      <th></th>\n",
       "      <th>id</th>\n",
       "      <th>first_name</th>\n",
       "      <th>last_name</th>\n",
       "      <th>date_of_birth</th>\n",
       "      <th>address_line1</th>\n",
       "      <th>address_line2</th>\n",
       "      <th>city</th>\n",
       "      <th>state</th>\n",
       "      <th>country</th>\n",
       "      <th>email_id</th>\n",
       "    </tr>\n",
       "  </thead>\n",
       "  <tbody>\n",
       "    <tr>\n",
       "      <th>count</th>\n",
       "      <td>200</td>\n",
       "      <td>200</td>\n",
       "      <td>104</td>\n",
       "      <td>200</td>\n",
       "      <td>200</td>\n",
       "      <td>200</td>\n",
       "      <td>200</td>\n",
       "      <td>200</td>\n",
       "      <td>136</td>\n",
       "      <td>200</td>\n",
       "    </tr>\n",
       "    <tr>\n",
       "      <th>unique</th>\n",
       "      <td>200</td>\n",
       "      <td>175</td>\n",
       "      <td>100</td>\n",
       "      <td>200</td>\n",
       "      <td>192</td>\n",
       "      <td>28</td>\n",
       "      <td>67</td>\n",
       "      <td>16</td>\n",
       "      <td>2</td>\n",
       "      <td>200</td>\n",
       "    </tr>\n",
       "    <tr>\n",
       "      <th>top</th>\n",
       "      <td>b30f75f1-04b4-4116-8371-2904b60d9cd4</td>\n",
       "      <td>Valerio</td>\n",
       "      <td>Robledo</td>\n",
       "      <td>1929-03-25</td>\n",
       "      <td>38 Milford Street</td>\n",
       "      <td></td>\n",
       "      <td>Fayetteville</td>\n",
       "      <td>TN</td>\n",
       "      <td>USA</td>\n",
       "      <td>palomaresgil@example.com</td>\n",
       "    </tr>\n",
       "    <tr>\n",
       "      <th>freq</th>\n",
       "      <td>1</td>\n",
       "      <td>2</td>\n",
       "      <td>2</td>\n",
       "      <td>1</td>\n",
       "      <td>3</td>\n",
       "      <td>168</td>\n",
       "      <td>16</td>\n",
       "      <td>17</td>\n",
       "      <td>74</td>\n",
       "      <td>1</td>\n",
       "    </tr>\n",
       "  </tbody>\n",
       "</table>\n",
       "</div>"
      ],
      "text/plain": [
       "                                          id first_name last_name  \\\n",
       "count                                    200        200       104   \n",
       "unique                                   200        175       100   \n",
       "top     b30f75f1-04b4-4116-8371-2904b60d9cd4    Valerio   Robledo   \n",
       "freq                                       1          2         2   \n",
       "\n",
       "       date_of_birth      address_line1 address_line2          city state  \\\n",
       "count            200                200           200           200   200   \n",
       "unique           200                192            28            67    16   \n",
       "top       1929-03-25  38 Milford Street                Fayetteville    TN   \n",
       "freq               1                  3           168            16    17   \n",
       "\n",
       "       country                  email_id  \n",
       "count      136                       200  \n",
       "unique       2                       200  \n",
       "top        USA  palomaresgil@example.com  \n",
       "freq        74                         1  "
      ]
     },
     "execution_count": 7,
     "metadata": {},
     "output_type": "execute_result"
    }
   ],
   "source": [
    "df.describe()"
   ]
  },
  {
   "cell_type": "markdown",
   "id": "6faad05e",
   "metadata": {},
   "source": [
    "## Check Missing Values in Columns\n"
   ]
  },
  {
   "cell_type": "code",
   "execution_count": 9,
   "id": "a3a5c73c",
   "metadata": {},
   "outputs": [
    {
     "data": {
      "text/plain": [
       "id                0\n",
       "first_name        0\n",
       "last_name        96\n",
       "date_of_birth     0\n",
       "address_line1     0\n",
       "address_line2     0\n",
       "city              0\n",
       "state             0\n",
       "country          64\n",
       "email_id          0\n",
       "dtype: int64"
      ]
     },
     "execution_count": 9,
     "metadata": {},
     "output_type": "execute_result"
    }
   ],
   "source": [
    "df.isnull().sum()"
   ]
  },
  {
   "cell_type": "markdown",
   "id": "a4f00f2c",
   "metadata": {},
   "source": [
    "### `last_name and country` columns have missing values\n"
   ]
  },
  {
   "cell_type": "markdown",
   "id": "a444aaf4",
   "metadata": {},
   "source": [
    "## Inconsistent values - `US vs USA` in Country column\n"
   ]
  },
  {
   "cell_type": "code",
   "execution_count": 10,
   "id": "14529d59",
   "metadata": {},
   "outputs": [
    {
     "data": {
      "text/plain": [
       "<Axes: xlabel='country', ylabel='count'>"
      ]
     },
     "execution_count": 10,
     "metadata": {},
     "output_type": "execute_result"
    },
    {
     "data": {
      "image/png": "[encoded data removed]",
      "text/plain": [
       "<Figure size 640x480 with 1 Axes>"
      ]
     },
     "metadata": {},
     "output_type": "display_data"
    }
   ],
   "source": [
    "import seaborn as sns\n",
    "\n",
    "sns.countplot(data=df, x=\"country\", hue=\"country\")"
   ]
  },
  {
   "cell_type": "markdown",
   "id": "e2bed856",
   "metadata": {},
   "source": [
    "### column 'date_of_birth` has inconsistent date formats`\n"
   ]
  },
  {
   "cell_type": "code",
   "execution_count": 13,
   "id": "603fa204",
   "metadata": {},
   "outputs": [
    {
     "data": {
      "text/plain": [
       "array(['1929-03-25', '2016-11-07', '06-01-2019', '01-21-1915',\n",
       "       '2009-12-18'], dtype=object)"
      ]
     },
     "execution_count": 13,
     "metadata": {},
     "output_type": "execute_result"
    }
   ],
   "source": [
    "df[\"date_of_birth\"].unique()[0:5]"
   ]
  },
  {
   "cell_type": "markdown",
   "id": "6ddecae4-2233-4a1b-aa8b-0f9906373b85",
   "metadata": {},
   "source": [
    "## Generate csv file\n"
   ]
  },
  {
   "cell_type": "code",
   "execution_count": 14,
   "id": "fbcd5e48-2710-41d0-b644-c8c9707f5fd7",
   "metadata": {},
   "outputs": [],
   "source": [
    "df.to_csv(\"output/customer_synthetic_data.csv\", index=False)"
   ]
  }
 ],
 "metadata": {
  "kernelspec": {
   "display_name": "myenv",
   "language": "python",
   "name": "python3"
  },
  "language_info": {
   "codemirror_mode": {
    "name": "ipython",
    "version": 3
   },
   "file_extension": ".py",
   "mimetype": "text/x-python",
   "name": "python",
   "nbconvert_exporter": "python",
   "pygments_lexer": "ipython3",
   "version": "3.11.9"
  }
 },
 "nbformat": 4,
 "nbformat_minor": 5
}
