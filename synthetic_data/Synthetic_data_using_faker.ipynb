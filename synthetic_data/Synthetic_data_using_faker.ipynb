{
 "cells": [
  {
   "cell_type": "markdown",
   "id": "0a6de537-4b97-4f3f-9540-cea730bd15d8",
   "metadata": {},
   "source": [
    "## Synthetic Data Demo\n"
   ]
  },
  {
   "cell_type": "code",
   "execution_count": 1,
   "id": "0db99ef8-977e-4a1a-96f1-d110f4cccd36",
   "metadata": {},
   "outputs": [],
   "source": [
    "from fake import SynthethicData\n",
    "import pandas as pd"
   ]
  },
  {
   "cell_type": "markdown",
   "id": "157fe761-3e98-4ab3-98fb-5e4d6657e998",
   "metadata": {},
   "source": [
    "## Generate Synthetic data\n"
   ]
  },
  {
   "cell_type": "code",
   "execution_count": 2,
   "id": "b63a0dc5-d3bf-4e8d-8343-ad3890bebc35",
   "metadata": {},
   "outputs": [
    {
     "name": "stdout",
     "output_type": "stream",
     "text": [
      "INFO: Initializing SyntheticData class\n",
      "INFO: Generated 200 of SyntheticData using Faker\n"
     ]
    }
   ],
   "source": [
    "synthetic_data = SynthethicData(num_records=200).data"
   ]
  },
  {
   "cell_type": "markdown",
   "id": "72b03d14-537b-4f6c-a804-e232864bf71b",
   "metadata": {},
   "source": [
    "## Convert synthetic to pandas dataframe\n"
   ]
  },
  {
   "cell_type": "code",
   "execution_count": 3,
   "id": "08911c28-b3cd-4444-bb9c-46937c06160a",
   "metadata": {},
   "outputs": [],
   "source": [
    "df = pd.DataFrame(synthetic_data)"
   ]
  },
  {
   "cell_type": "code",
   "execution_count": 4,
   "id": "30191ec8-4465-468d-bedf-6ba118a9614a",
   "metadata": {},
   "outputs": [
    {
     "data": {
      "text/plain": [
       "Index(['id', 'first_name', 'last_name', 'date_of_birth', 'address_line1',\n",
       "       'address_line2', 'city', 'state', 'country', 'email_id'],\n",
       "      dtype='object')"
      ]
     },
     "execution_count": 4,
     "metadata": {},
     "output_type": "execute_result"
    }
   ],
   "source": [
    "df.columns"
   ]
  },
  {
   "cell_type": "markdown",
   "id": "5826671d-df04-4a55-953e-83a5e8504713",
   "metadata": {},
   "source": [
    "## Sample data\n"
   ]
  },
  {
   "cell_type": "code",
   "execution_count": 5,
   "id": "5bc267a0-5ad9-4e08-b0de-f0e1f14fb1a2",
   "metadata": {},
   "outputs": [
    {
     "data": {
      "text/html": [
       "<div>\n",
       "<style scoped>\n",
       "    .dataframe tbody tr th:only-of-type {\n",
       "        vertical-align: middle;\n",
       "    }\n",
       "\n",
       "    .dataframe tbody tr th {\n",
       "        vertical-align: top;\n",
       "    }\n",
       "\n",
       "    .dataframe thead th {\n",
       "        text-align: right;\n",
       "    }\n",
       "</style>\n",
       "<table border=\"1\" class=\"dataframe\">\n",
       "  <thead>\n",
       "    <tr style=\"text-align: right;\">\n",
       "      <th></th>\n",
       "      <th>id</th>\n",
       "      <th>first_name</th>\n",
       "      <th>last_name</th>\n",
       "      <th>date_of_birth</th>\n",
       "      <th>address_line1</th>\n",
       "      <th>address_line2</th>\n",
       "      <th>city</th>\n",
       "      <th>state</th>\n",
       "      <th>country</th>\n",
       "      <th>email_id</th>\n",
       "    </tr>\n",
       "  </thead>\n",
       "  <tbody>\n",
       "    <tr>\n",
       "      <th>0</th>\n",
       "      <td>5f1f6712-3073-490d-8ffb-d4663ae723c9</td>\n",
       "      <td>Juanita</td>\n",
       "      <td>None</td>\n",
       "      <td>1910-05-30</td>\n",
       "      <td>1709 West Market Street</td>\n",
       "      <td></td>\n",
       "      <td>Louisville</td>\n",
       "      <td>KY</td>\n",
       "      <td>USA</td>\n",
       "      <td>anselmorivera@example.org</td>\n",
       "    </tr>\n",
       "    <tr>\n",
       "      <th>1</th>\n",
       "      <td>b6270ef6-4d5a-4f57-9171-f776a871b394</td>\n",
       "      <td>Jorge</td>\n",
       "      <td>Castells</td>\n",
       "      <td>1992-04-21</td>\n",
       "      <td>8121 Copper Creek Drive</td>\n",
       "      <td></td>\n",
       "      <td>Lyndon</td>\n",
       "      <td>KY</td>\n",
       "      <td>None</td>\n",
       "      <td>hozfatima@example.org</td>\n",
       "    </tr>\n",
       "    <tr>\n",
       "      <th>2</th>\n",
       "      <td>86c976a7-a1ad-463c-9288-9127c164c5ef</td>\n",
       "      <td>Luisa</td>\n",
       "      <td>Toro</td>\n",
       "      <td>1938-09-15</td>\n",
       "      <td>704 Crescent Road</td>\n",
       "      <td></td>\n",
       "      <td>Nashville</td>\n",
       "      <td>TN</td>\n",
       "      <td>None</td>\n",
       "      <td>hectorbenito@example.com</td>\n",
       "    </tr>\n",
       "    <tr>\n",
       "      <th>3</th>\n",
       "      <td>db5698d1-3dc3-4bad-a122-edb623b6a295</td>\n",
       "      <td>Ana</td>\n",
       "      <td>None</td>\n",
       "      <td>07-23-1958</td>\n",
       "      <td>2115 Honeysuckle Drive</td>\n",
       "      <td></td>\n",
       "      <td>Panama City</td>\n",
       "      <td>FL</td>\n",
       "      <td>US</td>\n",
       "      <td>felix04@example.net</td>\n",
       "    </tr>\n",
       "    <tr>\n",
       "      <th>4</th>\n",
       "      <td>5c9832d4-ce06-452f-97d3-0399637b1728</td>\n",
       "      <td>Carlos</td>\n",
       "      <td>Arenas</td>\n",
       "      <td>09-13-1974</td>\n",
       "      <td>314 South 17th Street</td>\n",
       "      <td></td>\n",
       "      <td>Nashville</td>\n",
       "      <td>TN</td>\n",
       "      <td>None</td>\n",
       "      <td>domitilamontserrat@example.net</td>\n",
       "    </tr>\n",
       "  </tbody>\n",
       "</table>\n",
       "</div>"
      ],
      "text/plain": [
       "                                     id first_name last_name date_of_birth  \\\n",
       "0  5f1f6712-3073-490d-8ffb-d4663ae723c9    Juanita      None    1910-05-30   \n",
       "1  b6270ef6-4d5a-4f57-9171-f776a871b394      Jorge  Castells    1992-04-21   \n",
       "2  86c976a7-a1ad-463c-9288-9127c164c5ef      Luisa      Toro    1938-09-15   \n",
       "3  db5698d1-3dc3-4bad-a122-edb623b6a295        Ana      None    07-23-1958   \n",
       "4  5c9832d4-ce06-452f-97d3-0399637b1728     Carlos    Arenas    09-13-1974   \n",
       "\n",
       "             address_line1 address_line2         city state country  \\\n",
       "0  1709 West Market Street                 Louisville    KY     USA   \n",
       "1  8121 Copper Creek Drive                     Lyndon    KY    None   \n",
       "2        704 Crescent Road                  Nashville    TN    None   \n",
       "3   2115 Honeysuckle Drive                Panama City    FL      US   \n",
       "4    314 South 17th Street                  Nashville    TN    None   \n",
       "\n",
       "                         email_id  \n",
       "0       anselmorivera@example.org  \n",
       "1           hozfatima@example.org  \n",
       "2        hectorbenito@example.com  \n",
       "3             felix04@example.net  \n",
       "4  domitilamontserrat@example.net  "
      ]
     },
     "execution_count": 5,
     "metadata": {},
     "output_type": "execute_result"
    }
   ],
   "source": [
    "df.head()"
   ]
  },
  {
   "cell_type": "markdown",
   "id": "50076d1c-c941-450e-b42b-05b26b609a5d",
   "metadata": {},
   "source": [
    "## Explore generated data\n"
   ]
  },
  {
   "cell_type": "code",
   "execution_count": 6,
   "id": "e299cb1a-5732-4e90-a51e-f88b260eb458",
   "metadata": {},
   "outputs": [
    {
     "name": "stdout",
     "output_type": "stream",
     "text": [
      "<class 'pandas.core.frame.DataFrame'>\n",
      "RangeIndex: 200 entries, 0 to 199\n",
      "Data columns (total 10 columns):\n",
      " #   Column         Non-Null Count  Dtype \n",
      "---  ------         --------------  ----- \n",
      " 0   id             200 non-null    object\n",
      " 1   first_name     200 non-null    object\n",
      " 2   last_name      92 non-null     object\n",
      " 3   date_of_birth  200 non-null    object\n",
      " 4   address_line1  200 non-null    object\n",
      " 5   address_line2  200 non-null    object\n",
      " 6   city           196 non-null    object\n",
      " 7   state          200 non-null    object\n",
      " 8   country        125 non-null    object\n",
      " 9   email_id       200 non-null    object\n",
      "dtypes: object(10)\n",
      "memory usage: 15.8+ KB\n"
     ]
    }
   ],
   "source": [
    "df.info()"
   ]
  },
  {
   "cell_type": "markdown",
   "id": "d922f6cd",
   "metadata": {},
   "source": [
    "## Describe data\n"
   ]
  },
  {
   "cell_type": "code",
   "execution_count": 7,
   "id": "972e8fe3",
   "metadata": {},
   "outputs": [
    {
     "data": {
      "text/html": [
       "<div>\n",
       "<style scoped>\n",
       "    .dataframe tbody tr th:only-of-type {\n",
       "        vertical-align: middle;\n",
       "    }\n",
       "\n",
       "    .dataframe tbody tr th {\n",
       "        vertical-align: top;\n",
       "    }\n",
       "\n",
       "    .dataframe thead th {\n",
       "        text-align: right;\n",
       "    }\n",
       "</style>\n",
       "<table border=\"1\" class=\"dataframe\">\n",
       "  <thead>\n",
       "    <tr style=\"text-align: right;\">\n",
       "      <th></th>\n",
       "      <th>id</th>\n",
       "      <th>first_name</th>\n",
       "      <th>last_name</th>\n",
       "      <th>date_of_birth</th>\n",
       "      <th>address_line1</th>\n",
       "      <th>address_line2</th>\n",
       "      <th>city</th>\n",
       "      <th>state</th>\n",
       "      <th>country</th>\n",
       "      <th>email_id</th>\n",
       "    </tr>\n",
       "  </thead>\n",
       "  <tbody>\n",
       "    <tr>\n",
       "      <th>count</th>\n",
       "      <td>200</td>\n",
       "      <td>200</td>\n",
       "      <td>92</td>\n",
       "      <td>200</td>\n",
       "      <td>200</td>\n",
       "      <td>200</td>\n",
       "      <td>196</td>\n",
       "      <td>200</td>\n",
       "      <td>125</td>\n",
       "      <td>200</td>\n",
       "    </tr>\n",
       "    <tr>\n",
       "      <th>unique</th>\n",
       "      <td>200</td>\n",
       "      <td>177</td>\n",
       "      <td>88</td>\n",
       "      <td>198</td>\n",
       "      <td>193</td>\n",
       "      <td>29</td>\n",
       "      <td>62</td>\n",
       "      <td>16</td>\n",
       "      <td>2</td>\n",
       "      <td>199</td>\n",
       "    </tr>\n",
       "    <tr>\n",
       "      <th>top</th>\n",
       "      <td>5f1f6712-3073-490d-8ffb-d4663ae723c9</td>\n",
       "      <td>Juan Manuel</td>\n",
       "      <td>Puente</td>\n",
       "      <td>06-20-1935</td>\n",
       "      <td>219 Bidwell Street</td>\n",
       "      <td></td>\n",
       "      <td>Manchester</td>\n",
       "      <td>CT</td>\n",
       "      <td>USA</td>\n",
       "      <td>baldomero80@example.org</td>\n",
       "    </tr>\n",
       "    <tr>\n",
       "      <th>freq</th>\n",
       "      <td>1</td>\n",
       "      <td>3</td>\n",
       "      <td>2</td>\n",
       "      <td>2</td>\n",
       "      <td>2</td>\n",
       "      <td>165</td>\n",
       "      <td>23</td>\n",
       "      <td>23</td>\n",
       "      <td>67</td>\n",
       "      <td>2</td>\n",
       "    </tr>\n",
       "  </tbody>\n",
       "</table>\n",
       "</div>"
      ],
      "text/plain": [
       "                                          id   first_name last_name  \\\n",
       "count                                    200          200        92   \n",
       "unique                                   200          177        88   \n",
       "top     5f1f6712-3073-490d-8ffb-d4663ae723c9  Juan Manuel    Puente   \n",
       "freq                                       1            3         2   \n",
       "\n",
       "       date_of_birth       address_line1 address_line2        city state  \\\n",
       "count            200                 200           200         196   200   \n",
       "unique           198                 193            29          62    16   \n",
       "top       06-20-1935  219 Bidwell Street                Manchester    CT   \n",
       "freq               2                   2           165          23    23   \n",
       "\n",
       "       country                 email_id  \n",
       "count      125                      200  \n",
       "unique       2                      199  \n",
       "top        USA  baldomero80@example.org  \n",
       "freq        67                        2  "
      ]
     },
     "execution_count": 7,
     "metadata": {},
     "output_type": "execute_result"
    }
   ],
   "source": [
    "df.describe()"
   ]
  },
  {
   "cell_type": "markdown",
   "id": "6faad05e",
   "metadata": {},
   "source": [
    "## Check Missing Values in Columns\n"
   ]
  },
  {
   "cell_type": "code",
   "execution_count": 8,
   "id": "a3a5c73c",
   "metadata": {},
   "outputs": [
    {
     "data": {
      "text/plain": [
       "id                 0\n",
       "first_name         0\n",
       "last_name        108\n",
       "date_of_birth      0\n",
       "address_line1      0\n",
       "address_line2      0\n",
       "city               4\n",
       "state              0\n",
       "country           75\n",
       "email_id           0\n",
       "dtype: int64"
      ]
     },
     "execution_count": 8,
     "metadata": {},
     "output_type": "execute_result"
    }
   ],
   "source": [
    "df.isnull().sum()"
   ]
  },
  {
   "cell_type": "markdown",
   "id": "a4f00f2c",
   "metadata": {},
   "source": [
    "### `last_name and country` columns have missing values\n"
   ]
  },
  {
   "cell_type": "markdown",
   "id": "a444aaf4",
   "metadata": {},
   "source": [
    "## Inconsistent values - `US vs USA` in Country column\n"
   ]
  },
  {
   "cell_type": "code",
   "execution_count": 9,
   "id": "14529d59",
   "metadata": {},
   "outputs": [
    {
     "data": {
      "text/plain": [
       "<Axes: xlabel='country', ylabel='count'>"
      ]
     },
     "execution_count": 9,
     "metadata": {},
     "output_type": "execute_result"
    },
    {
     "data": {
      "image/png": "[encoded data removed]",
      "text/plain": [
       "<Figure size 640x480 with 1 Axes>"
      ]
     },
     "metadata": {},
     "output_type": "display_data"
    }
   ],
   "source": [
    "import seaborn as sns\n",
    "\n",
    "sns.countplot(data=df, x=\"country\", hue=\"country\")"
   ]
  },
  {
   "cell_type": "markdown",
   "id": "e2bed856",
   "metadata": {},
   "source": [
    "### column 'date_of_birth` has inconsistent date formats`\n"
   ]
  },
  {
   "cell_type": "code",
   "execution_count": 10,
   "id": "603fa204",
   "metadata": {},
   "outputs": [
    {
     "data": {
      "text/plain": [
       "array(['1910-05-30', '1992-04-21', '1938-09-15', '07-23-1958',\n",
       "       '09-13-1974'], dtype=object)"
      ]
     },
     "execution_count": 10,
     "metadata": {},
     "output_type": "execute_result"
    }
   ],
   "source": [
    "df[\"date_of_birth\"].unique()[0:5]"
   ]
  },
  {
   "cell_type": "markdown",
   "id": "6ddecae4-2233-4a1b-aa8b-0f9906373b85",
   "metadata": {},
   "source": [
    "## Generate csv file\n"
   ]
  },
  {
   "cell_type": "code",
   "execution_count": 11,
   "id": "fbcd5e48-2710-41d0-b644-c8c9707f5fd7",
   "metadata": {},
   "outputs": [],
   "source": [
    "df.to_csv(\"output/customer_synthetic_data.csv\", index=False)"
   ]
  },
  {
   "cell_type": "code",
   "execution_count": null,
   "id": "15886919",
   "metadata": {},
   "outputs": [],
   "source": []
  }
 ],
 "metadata": {
  "kernelspec": {
   "display_name": "myenv",
   "language": "python",
   "name": "python3"
  },
  "language_info": {
   "codemirror_mode": {
    "name": "ipython",
    "version": 3
   },
   "file_extension": ".py",
   "mimetype": "text/x-python",
   "name": "python",
   "nbconvert_exporter": "python",
   "pygments_lexer": "ipython3",
   "version": "3.11.9"
  }
 },
 "nbformat": 4,
 "nbformat_minor": 5
}
