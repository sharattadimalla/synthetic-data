{
 "cells": [
  {
   "cell_type": "markdown",
   "metadata": {},
   "source": [
    "## CTGAN - Conditional Table Generative Adversial Network\n"
   ]
  },
  {
   "cell_type": "code",
   "execution_count": 1,
   "metadata": {},
   "outputs": [],
   "source": [
    "import sys\n",
    "import os\n",
    "\n",
    "sys.path.insert(1, os.path.dirname(os.getcwd()))"
   ]
  },
  {
   "cell_type": "code",
   "execution_count": 2,
   "metadata": {},
   "outputs": [],
   "source": [
    "from cgan import CTGANSyntheticData"
   ]
  },
  {
   "cell_type": "code",
   "execution_count": 6,
   "metadata": {},
   "outputs": [
    {
     "name": "stdout",
     "output_type": "stream",
     "text": [
      "INFO: Intializing CTGANSynethicData class\n",
      "INFO: df sample data\n",
      "INFO: Metadata {\n",
      "    \"tables\": {\n",
      "        \"person\": {\n",
      "            \"columns\": {\n",
      "                \"id\": {\n",
      "                    \"sdtype\": \"id\"\n",
      "                },\n",
      "                \"first_name\": {\n",
      "                    \"sdtype\": \"first_name\",\n",
      "                    \"pii\": true\n",
      "                },\n",
      "                \"last_name\": {\n",
      "                    \"sdtype\": \"last_name\",\n",
      "                    \"pii\": true\n",
      "                },\n",
      "                \"date_of_birth\": {\n",
      "                    \"sdtype\": \"unknown\",\n",
      "                    \"pii\": true\n",
      "                },\n",
      "                \"address_line1\": {\n",
      "                    \"sdtype\": \"street_address\",\n",
      "                    \"pii\": true\n",
      "                },\n",
      "                \"address_line2\": {\n",
      "                    \"sdtype\": \"secondary_address\",\n",
      "                    \"pii\": true\n",
      "                },\n",
      "                \"city\": {\n",
      "                    \"sdtype\": \"city\",\n",
      "                    \"pii\": true\n",
      "                },\n",
      "                \"state\": {\n",
      "                    \"sdtype\": \"administrative_unit\",\n",
      "                    \"pii\": true\n",
      "                },\n",
      "                \"country\": {\n",
      "                    \"sdtype\": \"categorical\"\n",
      "                },\n",
      "                \"email_id\": {\n",
      "                    \"sdtype\": \"email\",\n",
      "                    \"pii\": true\n",
      "                }\n",
      "            },\n",
      "            \"primary_key\": \"id\"\n",
      "        }\n",
      "    },\n",
      "    \"relationships\": [],\n",
      "    \"METADATA_SPEC_VERSION\": \"V1\"\n",
      "}\n"
     ]
    },
    {
     "name": "stderr",
     "output_type": "stream",
     "text": [
      "/Users/sharattadimalla/github/synthetic-data/myenv/lib/python3.11/site-packages/sdv/single_table/base.py:105: UserWarning: We strongly recommend saving the metadata using 'save_to_json' for replicability in future SDV versions.\n",
      "  warnings.warn(\n"
     ]
    },
    {
     "name": "stdout",
     "output_type": "stream",
     "text": [
      "INFO: Completed Training CTGAN\n",
      "INFO: Completed sample generation using CTGAN\n"
     ]
    }
   ],
   "source": [
    "cgan = CTGANSyntheticData(num_records=200)"
   ]
  },
  {
   "cell_type": "code",
   "execution_count": 7,
   "metadata": {},
   "outputs": [],
   "source": [
    "synthetic_data = cgan.synthetic_data"
   ]
  },
  {
   "cell_type": "code",
   "execution_count": 4,
   "metadata": {},
   "outputs": [
    {
     "data": {
      "text/html": [
       "<div>\n",
       "<style scoped>\n",
       "    .dataframe tbody tr th:only-of-type {\n",
       "        vertical-align: middle;\n",
       "    }\n",
       "\n",
       "    .dataframe tbody tr th {\n",
       "        vertical-align: top;\n",
       "    }\n",
       "\n",
       "    .dataframe thead th {\n",
       "        text-align: right;\n",
       "    }\n",
       "</style>\n",
       "<table border=\"1\" class=\"dataframe\">\n",
       "  <thead>\n",
       "    <tr style=\"text-align: right;\">\n",
       "      <th></th>\n",
       "      <th>id</th>\n",
       "      <th>first_name</th>\n",
       "      <th>last_name</th>\n",
       "      <th>date_of_birth</th>\n",
       "      <th>address_line1</th>\n",
       "      <th>address_line2</th>\n",
       "      <th>city</th>\n",
       "      <th>state</th>\n",
       "      <th>country</th>\n",
       "      <th>email_id</th>\n",
       "    </tr>\n",
       "  </thead>\n",
       "  <tbody>\n",
       "    <tr>\n",
       "      <th>0</th>\n",
       "      <td>sdv-id-sNPEPe</td>\n",
       "      <td>Claire</td>\n",
       "      <td>Jones</td>\n",
       "      <td>sdv-pii-remem</td>\n",
       "      <td>730 Curry Falls Suite 281</td>\n",
       "      <td>NaN</td>\n",
       "      <td>Sandraton</td>\n",
       "      <td>Virginia</td>\n",
       "      <td>NaN</td>\n",
       "      <td>dianamason@example.org</td>\n",
       "    </tr>\n",
       "    <tr>\n",
       "      <th>1</th>\n",
       "      <td>sdv-id-OCAVOE</td>\n",
       "      <td>Felicia</td>\n",
       "      <td>NaN</td>\n",
       "      <td>sdv-pii-5xe8l</td>\n",
       "      <td>118 Lewis Lights Suite 255</td>\n",
       "      <td>NaN</td>\n",
       "      <td>New Amandaton</td>\n",
       "      <td>South Dakota</td>\n",
       "      <td>USA</td>\n",
       "      <td>frederick14@example.org</td>\n",
       "    </tr>\n",
       "    <tr>\n",
       "      <th>2</th>\n",
       "      <td>sdv-id-neGCID</td>\n",
       "      <td>Francisco</td>\n",
       "      <td>Foley</td>\n",
       "      <td>sdv-pii-t75ze</td>\n",
       "      <td>0021 Garcia Ways Apt. 041</td>\n",
       "      <td>NaN</td>\n",
       "      <td>Kimberlychester</td>\n",
       "      <td>Nebraska</td>\n",
       "      <td>US</td>\n",
       "      <td>michellejones@example.org</td>\n",
       "    </tr>\n",
       "    <tr>\n",
       "      <th>3</th>\n",
       "      <td>sdv-id-AnBhKA</td>\n",
       "      <td>Troy</td>\n",
       "      <td>Smith</td>\n",
       "      <td>sdv-pii-guwl6</td>\n",
       "      <td>65295 Weiss Gardens</td>\n",
       "      <td>NaN</td>\n",
       "      <td>Lindaside</td>\n",
       "      <td>North Dakota</td>\n",
       "      <td>USA</td>\n",
       "      <td>troy28@example.net</td>\n",
       "    </tr>\n",
       "    <tr>\n",
       "      <th>4</th>\n",
       "      <td>sdv-id-CBFkkr</td>\n",
       "      <td>Jason</td>\n",
       "      <td>NaN</td>\n",
       "      <td>sdv-pii-ljglt</td>\n",
       "      <td>1101 Michael Crossroad Suite 320</td>\n",
       "      <td>NaN</td>\n",
       "      <td>Weissburgh</td>\n",
       "      <td>New Mexico</td>\n",
       "      <td>NaN</td>\n",
       "      <td>pamela19@example.net</td>\n",
       "    </tr>\n",
       "    <tr>\n",
       "      <th>...</th>\n",
       "      <td>...</td>\n",
       "      <td>...</td>\n",
       "      <td>...</td>\n",
       "      <td>...</td>\n",
       "      <td>...</td>\n",
       "      <td>...</td>\n",
       "      <td>...</td>\n",
       "      <td>...</td>\n",
       "      <td>...</td>\n",
       "      <td>...</td>\n",
       "    </tr>\n",
       "    <tr>\n",
       "      <th>195</th>\n",
       "      <td>sdv-id-GSRWbg</td>\n",
       "      <td>Amanda</td>\n",
       "      <td>NaN</td>\n",
       "      <td>sdv-pii-cgron</td>\n",
       "      <td>3130 Patricia Locks</td>\n",
       "      <td>NaN</td>\n",
       "      <td>Lawsonmouth</td>\n",
       "      <td>New Jersey</td>\n",
       "      <td>US</td>\n",
       "      <td>bethany02@example.org</td>\n",
       "    </tr>\n",
       "    <tr>\n",
       "      <th>196</th>\n",
       "      <td>sdv-id-NJyGGk</td>\n",
       "      <td>Sean</td>\n",
       "      <td>Hoffman</td>\n",
       "      <td>sdv-pii-2uqht</td>\n",
       "      <td>12280 Vargas Drive</td>\n",
       "      <td>NaN</td>\n",
       "      <td>South Nicholasmouth</td>\n",
       "      <td>Ohio</td>\n",
       "      <td>USA</td>\n",
       "      <td>leesimmons@example.net</td>\n",
       "    </tr>\n",
       "    <tr>\n",
       "      <th>197</th>\n",
       "      <td>sdv-id-kZKXPg</td>\n",
       "      <td>James</td>\n",
       "      <td>Diaz</td>\n",
       "      <td>sdv-pii-dg3v6</td>\n",
       "      <td>64781 Donovan Locks Suite 430</td>\n",
       "      <td>NaN</td>\n",
       "      <td>Christinafurt</td>\n",
       "      <td>Connecticut</td>\n",
       "      <td>US</td>\n",
       "      <td>adamgomez@example.net</td>\n",
       "    </tr>\n",
       "    <tr>\n",
       "      <th>198</th>\n",
       "      <td>sdv-id-sxPSvU</td>\n",
       "      <td>Debra</td>\n",
       "      <td>Young</td>\n",
       "      <td>sdv-pii-wcmn8</td>\n",
       "      <td>1080 Joshua Light</td>\n",
       "      <td>NaN</td>\n",
       "      <td>East Rachelchester</td>\n",
       "      <td>Mississippi</td>\n",
       "      <td>NaN</td>\n",
       "      <td>griffinchristian@example.com</td>\n",
       "    </tr>\n",
       "    <tr>\n",
       "      <th>199</th>\n",
       "      <td>sdv-id-OeLxLH</td>\n",
       "      <td>Alex</td>\n",
       "      <td>Davis</td>\n",
       "      <td>sdv-pii-bgcp7</td>\n",
       "      <td>53034 Zachary Bridge</td>\n",
       "      <td>NaN</td>\n",
       "      <td>Smithville</td>\n",
       "      <td>New Jersey</td>\n",
       "      <td>US</td>\n",
       "      <td>austinlogan@example.com</td>\n",
       "    </tr>\n",
       "  </tbody>\n",
       "</table>\n",
       "<p>200 rows × 10 columns</p>\n",
       "</div>"
      ],
      "text/plain": [
       "                id first_name last_name  date_of_birth  \\\n",
       "0    sdv-id-sNPEPe     Claire     Jones  sdv-pii-remem   \n",
       "1    sdv-id-OCAVOE    Felicia       NaN  sdv-pii-5xe8l   \n",
       "2    sdv-id-neGCID  Francisco     Foley  sdv-pii-t75ze   \n",
       "3    sdv-id-AnBhKA       Troy     Smith  sdv-pii-guwl6   \n",
       "4    sdv-id-CBFkkr      Jason       NaN  sdv-pii-ljglt   \n",
       "..             ...        ...       ...            ...   \n",
       "195  sdv-id-GSRWbg     Amanda       NaN  sdv-pii-cgron   \n",
       "196  sdv-id-NJyGGk       Sean   Hoffman  sdv-pii-2uqht   \n",
       "197  sdv-id-kZKXPg      James      Diaz  sdv-pii-dg3v6   \n",
       "198  sdv-id-sxPSvU      Debra     Young  sdv-pii-wcmn8   \n",
       "199  sdv-id-OeLxLH       Alex     Davis  sdv-pii-bgcp7   \n",
       "\n",
       "                        address_line1 address_line2                 city  \\\n",
       "0           730 Curry Falls Suite 281           NaN            Sandraton   \n",
       "1          118 Lewis Lights Suite 255           NaN        New Amandaton   \n",
       "2           0021 Garcia Ways Apt. 041           NaN      Kimberlychester   \n",
       "3                 65295 Weiss Gardens           NaN            Lindaside   \n",
       "4    1101 Michael Crossroad Suite 320           NaN           Weissburgh   \n",
       "..                                ...           ...                  ...   \n",
       "195               3130 Patricia Locks           NaN          Lawsonmouth   \n",
       "196                12280 Vargas Drive           NaN  South Nicholasmouth   \n",
       "197     64781 Donovan Locks Suite 430           NaN        Christinafurt   \n",
       "198                 1080 Joshua Light           NaN   East Rachelchester   \n",
       "199              53034 Zachary Bridge           NaN           Smithville   \n",
       "\n",
       "            state country                      email_id  \n",
       "0        Virginia     NaN        dianamason@example.org  \n",
       "1    South Dakota     USA       frederick14@example.org  \n",
       "2        Nebraska      US     michellejones@example.org  \n",
       "3    North Dakota     USA            troy28@example.net  \n",
       "4      New Mexico     NaN          pamela19@example.net  \n",
       "..            ...     ...                           ...  \n",
       "195    New Jersey      US         bethany02@example.org  \n",
       "196          Ohio     USA        leesimmons@example.net  \n",
       "197   Connecticut      US         adamgomez@example.net  \n",
       "198   Mississippi     NaN  griffinchristian@example.com  \n",
       "199    New Jersey      US       austinlogan@example.com  \n",
       "\n",
       "[200 rows x 10 columns]"
      ]
     },
     "execution_count": 4,
     "metadata": {},
     "output_type": "execute_result"
    }
   ],
   "source": [
    "synthetic_data"
   ]
  },
  {
   "cell_type": "code",
   "execution_count": 9,
   "metadata": {},
   "outputs": [
    {
     "name": "stdout",
     "output_type": "stream",
     "text": [
      "Generating report ...\n",
      "\n",
      "(1/2) Evaluating Data Validity: |██████████| 10/10 [00:00<00:00, 2174.34it/s]|\n",
      "Data Validity Score: 100.0%\n",
      "\n",
      "(2/2) Evaluating Data Structure: |██████████| 1/1 [00:00<00:00, 92.12it/s]|\n",
      "Data Structure Score: 100.0%\n",
      "\n",
      "Overall Score (Average): 100.0%\n",
      "\n"
     ]
    },
    {
     "data": {
      "text/plain": [
       "<sdmetrics.reports.single_table.diagnostic_report.DiagnosticReport at 0x13b9a4ed0>"
      ]
     },
     "execution_count": 9,
     "metadata": {},
     "output_type": "execute_result"
    }
   ],
   "source": [
    "from sdv.evaluation.single_table import run_diagnostic, evaluate_quality\n",
    "from sdv.evaluation.single_table import get_column_plot\n",
    "\n",
    "# 1. perform basic validity checks\n",
    "diagnostic = run_diagnostic(cgan.df, synthetic_data, cgan.metadata)\n",
    "diagnostic"
   ]
  },
  {
   "cell_type": "code",
   "execution_count": null,
   "metadata": {},
   "outputs": [
    {
     "data": {
      "text/html": [
       "<div>\n",
       "<style scoped>\n",
       "    .dataframe tbody tr th:only-of-type {\n",
       "        vertical-align: middle;\n",
       "    }\n",
       "\n",
       "    .dataframe tbody tr th {\n",
       "        vertical-align: top;\n",
       "    }\n",
       "\n",
       "    .dataframe thead th {\n",
       "        text-align: right;\n",
       "    }\n",
       "</style>\n",
       "<table border=\"1\" class=\"dataframe\">\n",
       "  <thead>\n",
       "    <tr style=\"text-align: right;\">\n",
       "      <th></th>\n",
       "      <th>Column</th>\n",
       "      <th>Metric</th>\n",
       "      <th>Score</th>\n",
       "    </tr>\n",
       "  </thead>\n",
       "  <tbody>\n",
       "    <tr>\n",
       "      <th>0</th>\n",
       "      <td>id</td>\n",
       "      <td>KeyUniqueness</td>\n",
       "      <td>1.0</td>\n",
       "    </tr>\n",
       "    <tr>\n",
       "      <th>1</th>\n",
       "      <td>country</td>\n",
       "      <td>CategoryAdherence</td>\n",
       "      <td>1.0</td>\n",
       "    </tr>\n",
       "  </tbody>\n",
       "</table>\n",
       "</div>"
      ],
      "text/plain": [
       "    Column             Metric  Score\n",
       "0       id      KeyUniqueness    1.0\n",
       "1  country  CategoryAdherence    1.0"
      ]
     },
     "execution_count": 14,
     "metadata": {},
     "output_type": "execute_result"
    }
   ],
   "source": [
    "diagnostic.get_details(property_name=\"Data Validity\")"
   ]
  },
  {
   "cell_type": "code",
   "execution_count": null,
   "metadata": {},
   "outputs": [
    {
     "name": "stdout",
     "output_type": "stream",
     "text": [
      "Generating report ...\n",
      "\n",
      "(1/2) Evaluating Column Shapes: |██████████| 10/10 [00:00<00:00, 498.66it/s]|\n",
      "Column Shapes Score: 89.47%\n",
      "\n",
      "(2/2) Evaluating Column Pair Trends: |██████████| 45/45 [00:00<00:00, 3632.20it/s]|\n",
      "Column Pair Trends Score: nan%\n",
      "\n",
      "Overall Score (Average): 89.47%\n",
      "\n"
     ]
    }
   ],
   "source": [
    "# 2. measure the statistical similarity\n",
    "quality_report = evaluate_quality(cgan.df, synthetic_data, cgan.metadata)"
   ]
  },
  {
   "cell_type": "code",
   "execution_count": null,
   "metadata": {},
   "outputs": [
    {
     "data": {
      "text/html": [
       "<div>\n",
       "<style scoped>\n",
       "    .dataframe tbody tr th:only-of-type {\n",
       "        vertical-align: middle;\n",
       "    }\n",
       "\n",
       "    .dataframe tbody tr th {\n",
       "        vertical-align: top;\n",
       "    }\n",
       "\n",
       "    .dataframe thead th {\n",
       "        text-align: right;\n",
       "    }\n",
       "</style>\n",
       "<table border=\"1\" class=\"dataframe\">\n",
       "  <thead>\n",
       "    <tr style=\"text-align: right;\">\n",
       "      <th></th>\n",
       "      <th>Column</th>\n",
       "      <th>Metric</th>\n",
       "      <th>Score</th>\n",
       "    </tr>\n",
       "  </thead>\n",
       "  <tbody>\n",
       "    <tr>\n",
       "      <th>0</th>\n",
       "      <td>country</td>\n",
       "      <td>TVComplement</td>\n",
       "      <td>0.894657</td>\n",
       "    </tr>\n",
       "  </tbody>\n",
       "</table>\n",
       "</div>"
      ],
      "text/plain": [
       "    Column        Metric     Score\n",
       "0  country  TVComplement  0.894657"
      ]
     },
     "execution_count": 16,
     "metadata": {},
     "output_type": "execute_result"
    }
   ],
   "source": [
    "quality_report.get_details(property_name=\"Column Shapes\")"
   ]
  },
  {
   "cell_type": "code",
   "execution_count": null,
   "metadata": {},
   "outputs": [],
   "source": []
  }
 ],
 "metadata": {
  "kernelspec": {
   "display_name": "myenv",
   "language": "python",
   "name": "python3"
  },
  "language_info": {
   "codemirror_mode": {
    "name": "ipython",
    "version": 3
   },
   "file_extension": ".py",
   "mimetype": "text/x-python",
   "name": "python",
   "nbconvert_exporter": "python",
   "pygments_lexer": "ipython3",
   "version": "3.11.9"
  }
 },
 "nbformat": 4,
 "nbformat_minor": 2
}
